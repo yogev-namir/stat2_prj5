{
 "cells": [
  {
   "cell_type": "code",
   "execution_count": 223,
   "metadata": {
    "collapsed": true
   },
   "outputs": [],
   "source": [
    "import pandas as pd\n",
    "import numpy as np\n",
    "import matplotlib.pyplot as plt\n",
    "import seaborn as sns\n",
    "import scipy.stats as stats\n",
    "from statsmodels.graphics.gofplots import qqplot\n",
    "from scipy.stats import norm"
   ]
  },
  {
   "cell_type": "code",
   "execution_count": 224,
   "outputs": [
    {
     "name": "stdout",
     "output_type": "stream",
     "text": [
      "Data size after dropping Null values is 98.4% of the original data size\n"
     ]
    }
   ],
   "source": [
    "#loading the data and loosing all Null values\n",
    "df = pd.read_csv(r'framingham_heart_disease.csv')\n",
    "df = df[['male', 'heartRate', 'sysBP', 'totChol', 'BMI']]\n",
    "original_size = df.shape[0]\n",
    "df.dropna(how='any', inplace=True)\n",
    "no_null_size = df.shape[0]\n",
    "df.insert(loc=0, column='intercept', value=1)\n",
    "print(f'Data size after dropping Null values is'\n",
    "      f' {no_null_size / original_size * 100:0.3}% of the original data size')"
   ],
   "metadata": {
    "collapsed": false
   }
  },
  {
   "cell_type": "code",
   "execution_count": 225,
   "outputs": [],
   "source": [
    "def generate_sample(df, size):\n",
    "    np.random.seed(4861351)\n",
    "    flag = True\n",
    "    sample = None\n",
    "    while flag:  #will take another sample if there is one sex only\n",
    "        sample = df.sample(size)\n",
    "        female_count, male_count = sample[['male', 'BMI']].groupby('male').count()['BMI']\n",
    "        if female_count != 0 and male_count != 0:\n",
    "            if abs(female_count - male_count) <= size * 0.1:\n",
    "                flag = False\n",
    "            else:\n",
    "                flag = True\n",
    "    return sample"
   ],
   "metadata": {
    "collapsed": false
   }
  },
  {
   "cell_type": "code",
   "execution_count": 226,
   "outputs": [],
   "source": [
    "sample = generate_sample(df, 1000)\n",
    "X_variables = ['intercept', 'heartRate', 'sysBP', 'totChol']\n",
    "y_variable = 'BMI'\n",
    "X = df[X_variables]\n",
    "y = df[y_variable]\n",
    "X_sample = sample[X_variables]\n",
    "y_sample = sample[y_variable]\n"
   ],
   "metadata": {
    "collapsed": false
   }
  },
  {
   "cell_type": "code",
   "execution_count": 227,
   "outputs": [],
   "source": [
    "z_alpha = stats.norm.ppf(0.975)\n",
    "\n",
    "\n",
    "#Q1.a\n",
    "def calculate_beta(X, y):\n",
    "    # Calculate MLE\n",
    "    C = X.T @ X\n",
    "    C_inv = np.linalg.inv(C)\n",
    "    C_inv_X = C_inv @ X.T\n",
    "    beta = C_inv_X @ y\n",
    "    return np.round(beta, 4).to_numpy()\n",
    "\n",
    "\n",
    "def beta_CI(X, y, beta_sample, x_variables):\n",
    "    n = X.shape[0]\n",
    "    p = X.shape[1]\n",
    "    C = np.linalg.inv(X.T @ X)\n",
    "    e = y - np.dot(X, beta_sample)  #residuals\n",
    "    res_var_estimate = (1 / (n - p)) * (e.T @ e)  #sigma-hat squared\n",
    "    CI = []\n",
    "    for i, variable in enumerate(x_variables):\n",
    "        std_estimate = np.sqrt(res_var_estimate * (C[i][i]))  #SE of Beta_i\n",
    "        CI.append(np.round([beta_sample[i] - z_alpha * std_estimate,\n",
    "                            beta_sample[i] + z_alpha * std_estimate], 4))\n",
    "    return CI"
   ],
   "metadata": {
    "collapsed": false
   }
  },
  {
   "cell_type": "code",
   "execution_count": 228,
   "outputs": [
    {
     "name": "stdout",
     "output_type": "stream",
     "text": [
      "Beta = [1.69997e+01 4.60000e-03 5.78000e-02 3.10000e-03]\n",
      "CI for beta_0 is: [14.7841 19.2153]\n",
      "CI for beta_1 is: [-0.0165  0.0257]\n",
      "CI for beta_2 is: [0.0461 0.0695]\n",
      "CI for beta_3 is: [-0.0025  0.0087]\n"
     ]
    }
   ],
   "source": [
    "#Q1.a\n",
    "beta_sample = calculate_beta(X_sample, y_sample)\n",
    "regular_CI = beta_CI(X_sample, y_sample, beta_sample, X_variables)\n",
    "print(f'Beta = {beta_sample}')\n",
    "for i in range(beta_sample.size):\n",
    "    print(f\"CI for beta_{i} is: {regular_CI[i]}\")"
   ],
   "metadata": {
    "collapsed": false
   }
  },
  {
   "cell_type": "code",
   "execution_count": 229,
   "outputs": [],
   "source": [
    "argsort_y = np.argsort(sample['BMI'])\n",
    "BMI_missing = []\n",
    "\n",
    "for record, idx in zip(sample['BMI'], argsort_y):\n",
    "    p = 0.2 + (0.0006 * idx)\n",
    "    missing = np.random.binomial(1, p)\n",
    "    if missing == 0:\n",
    "        BMI_missing.append(record)\n",
    "    else:\n",
    "        BMI_missing.append(None)\n",
    "\n",
    "sample['BMI_missing'] = BMI_missing"
   ],
   "metadata": {
    "collapsed": false
   }
  },
  {
   "cell_type": "code",
   "execution_count": 235,
   "outputs": [
    {
     "name": "stdout",
     "output_type": "stream",
     "text": [
      "(508, 4)\n",
      "Beta = [1.5287e+01 4.8000e-03 5.9100e-02 9.6000e-03]\n",
      "CI for beta_0 is: [12.0055 18.5685]\n",
      "CI for beta_1 is: [-0.0245  0.0341]\n",
      "CI for beta_2 is: [0.0422 0.076 ]\n",
      "CI for beta_3 is: [0.0011 0.0181]\n"
     ]
    }
   ],
   "source": [
    "X_missing = X_sample[sample['BMI_missing'].isnull()==False]\n",
    "y_missing = y_sample[sample['BMI_missing'].isnull()==False]\n",
    "print(X_missing.shape)\n",
    "beta_missing = calculate_beta(X_missing, y_missing)\n",
    "CI_missing = beta_CI(X_missing, y_missing, beta_missing, X_variables)\n",
    "print(f'Beta = {beta_missing}')\n",
    "for i in range(beta_missing.size):\n",
    "    print(f\"CI for beta_{i} is: {CI_missing[i]}\")"
   ],
   "metadata": {
    "collapsed": false
   }
  },
  {
   "cell_type": "markdown",
   "source": [
    "$\\arg \\min_{\\beta}{\\|X\\beta - \\frac{RY}{\\pi(W)}\\|}^2$"
   ],
   "metadata": {
    "collapsed": false
   }
  }
 ],
 "metadata": {
  "kernelspec": {
   "display_name": "Python 3",
   "language": "python",
   "name": "python3"
  },
  "language_info": {
   "codemirror_mode": {
    "name": "ipython",
    "version": 2
   },
   "file_extension": ".py",
   "mimetype": "text/x-python",
   "name": "python",
   "nbconvert_exporter": "python",
   "pygments_lexer": "ipython2",
   "version": "2.7.6"
  }
 },
 "nbformat": 4,
 "nbformat_minor": 0
}
