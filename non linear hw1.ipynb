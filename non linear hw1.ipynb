{
 "cells": [
  {
   "cell_type": "code",
   "execution_count": 2,
   "metadata": {
    "collapsed": true
   },
   "outputs": [],
   "source": [
    "import numpy as np"
   ]
  },
  {
   "cell_type": "code",
   "execution_count": 11,
   "outputs": [],
   "source": [
    "def ex1(mat, vec):\n",
    "    # check shape 0 and 1 are equal to x's shape 0\n",
    "    if mat.shape[0] != vec.shape[0] or mat.shape[1] != vec.shape[0]:\n",
    "        return\n",
    "    n = mat.shape[0]\n",
    "    B = mat.T - np.diag(np.diag(mat))\n",
    "    print(B)\n",
    "    X = vec.T\n",
    "    for i in range(1,n):\n",
    "        np.concatenate(X,i*vec.T)\n",
    "    return B + X"
   ],
   "metadata": {
    "collapsed": false
   }
  },
  {
   "cell_type": "code",
   "execution_count": 14,
   "outputs": [
    {
     "name": "stdout",
     "output_type": "stream",
     "text": [
      "[[ 0  4  7]\n",
      " [-7  0  8]\n",
      " [ 4  8  0]]\n"
     ]
    },
    {
     "ename": "TypeError",
     "evalue": "only integer scalar arrays can be converted to a scalar index",
     "output_type": "error",
     "traceback": [
      "\u001B[1;31m---------------------------------------------------------------------------\u001B[0m",
      "\u001B[1;31mTypeError\u001B[0m                                 Traceback (most recent call last)",
      "Cell \u001B[1;32mIn[14], line 3\u001B[0m\n\u001B[0;32m      1\u001B[0m A \u001B[38;5;241m=\u001B[39m np\u001B[38;5;241m.\u001B[39marray([[\u001B[38;5;241m11\u001B[39m,\u001B[38;5;241m-\u001B[39m\u001B[38;5;241m7\u001B[39m,\u001B[38;5;241m4\u001B[39m],[\u001B[38;5;241m4\u001B[39m,\u001B[38;5;241m0\u001B[39m,\u001B[38;5;241m8\u001B[39m],[\u001B[38;5;241m7\u001B[39m,\u001B[38;5;241m8\u001B[39m,\u001B[38;5;241m7\u001B[39m]])\n\u001B[0;32m      2\u001B[0m x \u001B[38;5;241m=\u001B[39m np\u001B[38;5;241m.\u001B[39marray([[\u001B[38;5;241m10\u001B[39m,\u001B[38;5;241m11\u001B[39m,\u001B[38;5;241m13\u001B[39m]])\u001B[38;5;241m.\u001B[39mT\n\u001B[1;32m----> 3\u001B[0m C \u001B[38;5;241m=\u001B[39m \u001B[43mex1\u001B[49m\u001B[43m(\u001B[49m\u001B[43mA\u001B[49m\u001B[43m,\u001B[49m\u001B[43mx\u001B[49m\u001B[43m)\u001B[49m\n\u001B[0;32m      4\u001B[0m \u001B[38;5;28mprint\u001B[39m(C)\n",
      "Cell \u001B[1;32mIn[11], line 10\u001B[0m, in \u001B[0;36mex1\u001B[1;34m(mat, vec)\u001B[0m\n\u001B[0;32m      8\u001B[0m X \u001B[38;5;241m=\u001B[39m vec\u001B[38;5;241m.\u001B[39mT\n\u001B[0;32m      9\u001B[0m \u001B[38;5;28;01mfor\u001B[39;00m i \u001B[38;5;129;01min\u001B[39;00m \u001B[38;5;28mrange\u001B[39m(\u001B[38;5;241m1\u001B[39m,n):\n\u001B[1;32m---> 10\u001B[0m     \u001B[43mnp\u001B[49m\u001B[38;5;241;43m.\u001B[39;49m\u001B[43mconcatenate\u001B[49m\u001B[43m(\u001B[49m\u001B[43mX\u001B[49m\u001B[43m,\u001B[49m\u001B[43mi\u001B[49m\u001B[38;5;241;43m*\u001B[39;49m\u001B[43mvec\u001B[49m\u001B[38;5;241;43m.\u001B[39;49m\u001B[43mT\u001B[49m\u001B[43m)\u001B[49m\n\u001B[0;32m     11\u001B[0m \u001B[38;5;28;01mreturn\u001B[39;00m B \u001B[38;5;241m+\u001B[39m X\n",
      "File \u001B[1;32m<__array_function__ internals>:180\u001B[0m, in \u001B[0;36mconcatenate\u001B[1;34m(*args, **kwargs)\u001B[0m\n",
      "\u001B[1;31mTypeError\u001B[0m: only integer scalar arrays can be converted to a scalar index"
     ]
    }
   ],
   "source": [
    "A = np.array([[11,-7,4],[4,0,8],[7,8,7]])\n",
    "x = np.array([[10,11,13]]).T\n",
    "C = ex1(A,x)\n",
    "print(C)"
   ],
   "metadata": {
    "collapsed": false
   }
  },
  {
   "cell_type": "code",
   "execution_count": 18,
   "outputs": [],
   "source": [
    "P=np.zeros((3,9))\n",
    "x=np.block([[A,A]])"
   ],
   "metadata": {
    "collapsed": false
   }
  },
  {
   "cell_type": "code",
   "execution_count": 32,
   "outputs": [
    {
     "data": {
      "text/plain": "array([1, 2, 1, 2])"
     },
     "execution_count": 32,
     "metadata": {},
     "output_type": "execute_result"
    }
   ],
   "source": [
    "np.concatenate([np.array([1,2]),np.array([1,2])])"
   ],
   "metadata": {
    "collapsed": false
   }
  }
 ],
 "metadata": {
  "kernelspec": {
   "display_name": "Python 3",
   "language": "python",
   "name": "python3"
  },
  "language_info": {
   "codemirror_mode": {
    "name": "ipython",
    "version": 2
   },
   "file_extension": ".py",
   "mimetype": "text/x-python",
   "name": "python",
   "nbconvert_exporter": "python",
   "pygments_lexer": "ipython2",
   "version": "2.7.6"
  }
 },
 "nbformat": 4,
 "nbformat_minor": 0
}
